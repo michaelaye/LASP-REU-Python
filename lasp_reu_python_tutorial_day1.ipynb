{
 "cells": [
  {
   "cell_type": "markdown",
   "metadata": {
    "slideshow": {
     "slide_type": "slide"
    }
   },
   "source": [
    "# Using Python to investigate data"
   ]
  },
  {
   "cell_type": "markdown",
   "metadata": {
    "slideshow": {
     "slide_type": "subslide"
    }
   },
   "source": [
    "![Python overview](python.png \"Python\")"
   ]
  },
  {
   "cell_type": "markdown",
   "metadata": {
    "collapsed": false,
    "slideshow": {
     "slide_type": "subslide"
    }
   },
   "source": [
    "![Standard library](standard_lib.png \"Standard library\")"
   ]
  },
  {
   "cell_type": "markdown",
   "metadata": {
    "collapsed": true,
    "slideshow": {
     "slide_type": "subslide"
    }
   },
   "source": [
    "# MANY important non-standard packages"
   ]
  },
  {
   "cell_type": "markdown",
   "metadata": {
    "slideshow": {
     "slide_type": "subslide"
    }
   },
   "source": [
    "![Science stack](science_stack.jpg \"Science stack\")"
   ]
  },
  {
   "cell_type": "markdown",
   "metadata": {
    "collapsed": false,
    "slideshow": {
     "slide_type": "subslide"
    }
   },
   "source": [
    "![ecosytem](python_ecosystem.png \"Ecosytem\")"
   ]
  },
  {
   "cell_type": "markdown",
   "metadata": {
    "slideshow": {
     "slide_type": "subslide"
    }
   },
   "source": [
    "## Which Python distribution?\n",
    "* Currently best supported is Anaconda by Continuum.io\n",
    "* Works on the major three operating systems\n",
    "* Comes with the most important science packages pre-installed."
   ]
  },
  {
   "cell_type": "markdown",
   "metadata": {
    "collapsed": true,
    "slideshow": {
     "slide_type": "subslide"
    }
   },
   "source": [
    "## Getting started\n",
    "The following launches the Python interpreter in `interactive` mode:\n",
    "```bash\n",
    "$ python\n",
    "Python 3.5.1 |Continuum Analytics, Inc.| (default, Dec  7 2015, 11:24:55)\n",
    "[GCC 4.2.1 (Apple Inc. build 5577)] on darwin\n",
    "Type \"help\", \"copyright\", \"credits\" or \"license\" for more information.\n",
    ">>> print('hello world!')\n",
    "hello world!\n",
    "```"
   ]
  },
  {
   "cell_type": "markdown",
   "metadata": {
    "slideshow": {
     "slide_type": "fragment"
    }
   },
   "source": [
    "## To leave Python:\n",
    "```bash\n",
    ">>> <Ctrl-D>\n",
    "$ \n",
    "```"
   ]
  },
  {
   "cell_type": "markdown",
   "metadata": {
    "slideshow": {
     "slide_type": "subslide"
    }
   },
   "source": [
    "## Run an existing script file with Python code\n",
    "This is running Python code `non-interactive`:\n",
    "```bash\n",
    "$ python script_name.py\n",
    "[...output...]\n",
    "```\n",
    "* Python itself can be run interactively, but not many features.\n",
    "* -> Fernando Pérez, then at CU Boulder, invents IPython, a more powerful interactive environment for Python."
   ]
  },
  {
   "cell_type": "markdown",
   "metadata": {
    "slideshow": {
     "slide_type": "slide"
    }
   },
   "source": [
    "## Launching IPython\n",
    "Launching works the same way:\n",
    "```bash\n",
    "$ ipython\n",
    "Python 3.5.1 |Continuum Analytics, Inc.| (default, Dec  7 2015, 11:24:55)\n",
    "Type \"copyright\", \"credits\" or \"license\" for more information.\n",
    "\n",
    "IPython 4.2.0 -- An enhanced Interactive Python.\n",
    "?         -> Introduction and overview of IPython's features.\n",
    "%quickref -> Quick reference.\n",
    "help      -> Python's own help system.\n",
    "object?   -> Details about 'object', use 'object??' for extra details.\n",
    "Automatic calling is: Smart\n",
    "\n",
    "In [1]:\n",
    "```"
   ]
  },
  {
   "cell_type": "markdown",
   "metadata": {
    "slideshow": {
     "slide_type": "subslide"
    }
   },
   "source": [
    "# Most important IPython features\n",
    "* Tab completion for Python modules\n",
    "* Tab completion for object's attributes (\"introspection\")\n",
    "* automatic reload possible of things you are working on."
   ]
  },
  {
   "cell_type": "markdown",
   "metadata": {
    "slideshow": {
     "slide_type": "subslide"
    }
   },
   "source": [
    "# Latest technology jump: IPython notebook (Now Jupyter)\n",
    "\n",
    "* Cell-based interactivity\n",
    "* Combining codes with output including plot display **AND** documentation (like this!)\n",
    "* Very successful. Received twice Sloan foundation funding (here to stay!)\n",
    "* Became recently language agnostic: JU_lia, PYT_hon, R (and many many more)"
   ]
  },
  {
   "cell_type": "markdown",
   "metadata": {
    "slideshow": {
     "slide_type": "subslide"
    }
   },
   "source": [
    "# My recommendation\n",
    "* Work with IPython for quick things that don't need plots or on slow remote connection\n",
    "* Work with Jupyter notebook for interactive data analysis and to develop working code blocks\n",
    "* Put working code blocks together into script files for science production and run \"non-interactive\""
   ]
  },
  {
   "cell_type": "markdown",
   "metadata": {
    "slideshow": {
     "slide_type": "slide"
    }
   },
   "source": [
    "# Launching Jupyter notebook\n",
    "```bash\n",
    "$ jupyter notebook\n",
    "[I 16:27:34.880 NotebookApp] Serving notebooks from local directory: /Users/klay6683/src/RISE\n",
    "[I 16:27:34.880 NotebookApp] 0 active kernels\n",
    "[I 16:27:34.880 NotebookApp] The Jupyter Notebook is running at: http://localhost:8889/\n",
    "[I 16:27:34.881 NotebookApp] Use Control-C to stop this server and shut down all kernels (twice to skip confirmation).\n",
    "```\n",
    "* Will launch what is called a \"notebook server\" and open web browser with dash-board\n",
    "* This server pipes web browser cells to the underlying Python interpreter."
   ]
  },
  {
   "cell_type": "markdown",
   "metadata": {
    "slideshow": {
     "slide_type": "subslide"
    }
   },
   "source": [
    "![jupyter dashboard](jupyter_dashboard.png \"Jupyter dashboard\")"
   ]
  },
  {
   "cell_type": "markdown",
   "metadata": {
    "slideshow": {
     "slide_type": "subslide"
    }
   },
   "source": [
    "# And here we are!\n",
    "## Now let's do some Python!\n",
    "First, let's look at variables"
   ]
  },
  {
   "cell_type": "code",
   "execution_count": 1,
   "metadata": {
    "collapsed": true,
    "slideshow": {
     "slide_type": "slide"
    }
   },
   "outputs": [],
   "source": [
    "a = 5\n",
    "s = 'mystring'   # both single and double quotes are okay.\n",
    "# new comment"
   ]
  },
  {
   "cell_type": "markdown",
   "metadata": {
    "collapsed": true
   },
   "source": [
    "Python is `dynamically typed`, meaning I can change the type of any variable at any time:"
   ]
  },
  {
   "cell_type": "code",
   "execution_count": 3,
   "metadata": {
    "collapsed": false
   },
   "outputs": [
    {
     "name": "stdout",
     "output_type": "stream",
     "text": [
      "astring\n"
     ]
    },
    {
     "data": {
      "text/plain": [
       "23.1"
      ]
     },
     "execution_count": 3,
     "metadata": {},
     "output_type": "execute_result"
    }
   ],
   "source": [
    "a = 'astring'\n",
    "print(a)   # not the last line, so if I want to see it, I need to use the print() function.\n",
    "s = 23.1\n",
    "s  # note that if the last line of any Jupyter cell contains a printable object, it will be printed."
   ]
  },
  {
   "cell_type": "markdown",
   "metadata": {},
   "source": [
    "Python is written in C, therefore uses many of the same technicalities.\n",
    "\n",
    "For examples, one equal sign `=` is used for value assignment, while two `==` are used for equality checking:"
   ]
  },
  {
   "cell_type": "code",
   "execution_count": 4,
   "metadata": {
    "collapsed": false
   },
   "outputs": [
    {
     "data": {
      "text/plain": [
       "5"
      ]
     },
     "execution_count": 4,
     "metadata": {},
     "output_type": "execute_result"
    }
   ],
   "source": [
    "a = 5\n",
    "a"
   ]
  },
  {
   "cell_type": "code",
   "execution_count": 5,
   "metadata": {
    "collapsed": false
   },
   "outputs": [
    {
     "data": {
      "text/plain": [
       "True"
      ]
     },
     "execution_count": 5,
     "metadata": {},
     "output_type": "execute_result"
    }
   ],
   "source": [
    "a == 5"
   ]
  },
  {
   "cell_type": "markdown",
   "metadata": {},
   "source": [
    "Storing more than one item is done in `lists`.\n",
    "\n",
    "A list is only one of Python's `containers`, and it is very flexible, it can store any Python object."
   ]
  },
  {
   "cell_type": "code",
   "execution_count": 9,
   "metadata": {
    "collapsed": false
   },
   "outputs": [
    {
     "data": {
      "text/plain": [
       "[1, 3.4, 'hello', 3, 6]"
      ]
     },
     "execution_count": 9,
     "metadata": {},
     "output_type": "execute_result"
    }
   ],
   "source": [
    "mylist = [1, 3.4, 'hello', 3, 6]\n",
    "mylist"
   ]
  },
  {
   "cell_type": "markdown",
   "metadata": {},
   "source": [
    "Each item can be accessed by an 0-based index (like in C):"
   ]
  },
  {
   "cell_type": "code",
   "execution_count": 10,
   "metadata": {
    "collapsed": false
   },
   "outputs": [
    {
     "name": "stdout",
     "output_type": "stream",
     "text": [
      "1\n",
      "hello\n"
     ]
    },
    {
     "data": {
      "text/plain": [
       "5"
      ]
     },
     "execution_count": 10,
     "metadata": {},
     "output_type": "execute_result"
    }
   ],
   "source": [
    "print(mylist[0])\n",
    "print(mylist[2])\n",
    "len(mylist)"
   ]
  },
  {
   "cell_type": "markdown",
   "metadata": {},
   "source": [
    "One can get slices of lists by providing 2 indices, with the right limit being exclusive, not inclusive"
   ]
  },
  {
   "cell_type": "code",
   "execution_count": 13,
   "metadata": {
    "collapsed": false
   },
   "outputs": [
    {
     "name": "stdout",
     "output_type": "stream",
     "text": [
      "[1, 3.4]\n",
      "['hello', 3, 6]\n"
     ]
    }
   ],
   "source": [
    "i = 2\n",
    "print(mylist[:i])\n",
    "print(mylist[i:])"
   ]
  },
  {
   "cell_type": "markdown",
   "metadata": {},
   "source": [
    "### Sensible multiplication\n",
    "Most Python objects can be multiplied, in the most logical sense depending on its type:"
   ]
  },
  {
   "cell_type": "code",
   "execution_count": 14,
   "metadata": {
    "collapsed": true
   },
   "outputs": [],
   "source": [
    "a = 5\n",
    "s = 'mystring'\n",
    "mylist = [1,2]"
   ]
  },
  {
   "cell_type": "code",
   "execution_count": 15,
   "metadata": {
    "collapsed": false
   },
   "outputs": [
    {
     "name": "stdout",
     "output_type": "stream",
     "text": [
      "25\n",
      "mystringmystring\n",
      "[1, 2, 1, 2, 1, 2]\n"
     ]
    }
   ],
   "source": [
    "print(5*a)\n",
    "print(2*s)\n",
    "print(3*mylist)"
   ]
  },
  {
   "cell_type": "markdown",
   "metadata": {},
   "source": [
    "### Conditional branching: if statement"
   ]
  },
  {
   "cell_type": "code",
   "execution_count": 16,
   "metadata": {
    "collapsed": false
   },
   "outputs": [
    {
     "name": "stdout",
     "output_type": "stream",
     "text": [
      "Could be warmer.\n"
     ]
    }
   ],
   "source": [
    "temp = 80\n",
    "if temp > 110:\n",
    "    print(\"It's too hot.\")\n",
    "elif temp > 95 and temp < 110:  # test conditions are combined with `and`\n",
    "    print(\"It's okay.\")\n",
    "else:\n",
    "    print(\"Could be warmer.\")\n",
    "# See how I use double quotes here to avoid ambiguity with single quote in the string."
   ]
  },
  {
   "cell_type": "markdown",
   "metadata": {},
   "source": [
    "### Functions\n",
    "\n",
    "Functions are called with `()` to contain the arguments for a function. \n",
    "\n",
    "We already used one: `print()`\n",
    "\n",
    "Learn about function's abilitys using IPython's help system. It is accessed by adding a question mark to any function name. In Jupyter notebooks, a sub-window will open. When done reading, close it by pressing `q` or clicking the x icon:"
   ]
  },
  {
   "cell_type": "code",
   "execution_count": 17,
   "metadata": {
    "collapsed": true
   },
   "outputs": [],
   "source": [
    "print?"
   ]
  },
  {
   "cell_type": "markdown",
   "metadata": {},
   "source": [
    "#### Making your own function\n",
    "\n",
    "This is very easy, with using the keyword `def` for \"define\":"
   ]
  },
  {
   "cell_type": "code",
   "execution_count": 18,
   "metadata": {
    "collapsed": true
   },
   "outputs": [],
   "source": [
    "def myfunc(something):  # note how I don't care about the type here!\n",
    "    \"\"\"Print the length of `something` and print itself.\"\"\"\n",
    "    print(\"Length:\", len(something))   # all `something` needs to support is to have a length\n",
    "    print(\"You gave:\", something)"
   ]
  },
  {
   "cell_type": "code",
   "execution_count": 19,
   "metadata": {
    "collapsed": false
   },
   "outputs": [
    {
     "name": "stdout",
     "output_type": "stream",
     "text": [
      "Length: 8\n",
      "You gave: mystring\n"
     ]
    }
   ],
   "source": [
    "myfunc('mystring')"
   ]
  },
  {
   "cell_type": "code",
   "execution_count": 20,
   "metadata": {
    "collapsed": false
   },
   "outputs": [
    {
     "name": "stdout",
     "output_type": "stream",
     "text": [
      "Length: 3\n",
      "You gave: ['a', 1, 2]\n"
     ]
    }
   ],
   "source": [
    "myfunc(['a', 1, 2])"
   ]
  },
  {
   "cell_type": "code",
   "execution_count": 21,
   "metadata": {
    "collapsed": false
   },
   "outputs": [
    {
     "ename": "TypeError",
     "evalue": "object of type 'int' has no len()",
     "output_type": "error",
     "traceback": [
      "\u001b[0;31m---------------------------------------------------------------------------\u001b[0m",
      "\u001b[0;31mTypeError\u001b[0m                                 Traceback (most recent call last)",
      "\u001b[0;32m<ipython-input-21-4959b330b503>\u001b[0m in \u001b[0;36m<module>\u001b[0;34m()\u001b[0m\n\u001b[0;32m----> 1\u001b[0;31m \u001b[0mmyfunc\u001b[0m\u001b[0;34m(\u001b[0m\u001b[0;36m5\u001b[0m\u001b[0;34m)\u001b[0m\u001b[0;34m\u001b[0m\u001b[0m\n\u001b[0m",
      "\u001b[0;32m<ipython-input-18-aecc323f621a>\u001b[0m in \u001b[0;36mmyfunc\u001b[0;34m(something)\u001b[0m\n\u001b[1;32m      1\u001b[0m \u001b[0;32mdef\u001b[0m \u001b[0mmyfunc\u001b[0m\u001b[0;34m(\u001b[0m\u001b[0msomething\u001b[0m\u001b[0;34m)\u001b[0m\u001b[0;34m:\u001b[0m  \u001b[0;31m# note how I don't care about the type here!\u001b[0m\u001b[0;34m\u001b[0m\u001b[0m\n\u001b[1;32m      2\u001b[0m     \u001b[0;34m\"\"\"Print the length of `something` and print itself.\"\"\"\u001b[0m\u001b[0;34m\u001b[0m\u001b[0m\n\u001b[0;32m----> 3\u001b[0;31m     \u001b[0mprint\u001b[0m\u001b[0;34m(\u001b[0m\u001b[0;34m\"Length:\"\u001b[0m\u001b[0;34m,\u001b[0m \u001b[0mlen\u001b[0m\u001b[0;34m(\u001b[0m\u001b[0msomething\u001b[0m\u001b[0;34m)\u001b[0m\u001b[0;34m)\u001b[0m   \u001b[0;31m# all `something` needs to support is to have a length\u001b[0m\u001b[0;34m\u001b[0m\u001b[0m\n\u001b[0m\u001b[1;32m      4\u001b[0m     \u001b[0mprint\u001b[0m\u001b[0;34m(\u001b[0m\u001b[0;34m\"You gave:\"\u001b[0m\u001b[0;34m,\u001b[0m \u001b[0msomething\u001b[0m\u001b[0;34m)\u001b[0m\u001b[0;34m\u001b[0m\u001b[0m\n",
      "\u001b[0;31mTypeError\u001b[0m: object of type 'int' has no len()"
     ]
    }
   ],
   "source": [
    "myfunc(5)"
   ]
  },
  {
   "cell_type": "markdown",
   "metadata": {},
   "source": [
    "The principle of not defining a required type for a function, but require an `ability` is very important in Python and is called `duck typing`:\n",
    "\n",
    "> \"In other words, don't check whether it IS-a duck: check whether it QUACKS-like-a duck, WALKS-like-a duck, etc, etc, depending on exactly what subset of duck-like behaviour you need to play your language-games with.\""
   ]
  },
  {
   "cell_type": "markdown",
   "metadata": {},
   "source": [
    "## Loops\n",
    "\n",
    "Loops are the kings of programming, because they are the main reason why we do programming:\n",
    "\n",
    "> Execute tasks repeatedly, stop when conditions are fulfilled.\n",
    "\n",
    "These conditions could be simply that data are exhausted, or a mathematical condition.\n",
    "\n",
    "2 main loops exist: The more basic `while` loop, and the more advanced `for` loop.\n",
    "\n",
    "### while loops\n",
    "\n",
    "`while` loops run until their conditional changes from True to False.\n",
    "\n",
    "The loop is only entered when the condition is True.\n",
    "\n",
    "Note how in Python sub blocks of code are defined simply by indentation and the previous line\n",
    "ending with a colon `:`."
   ]
  },
  {
   "cell_type": "code",
   "execution_count": 26,
   "metadata": {
    "collapsed": false
   },
   "outputs": [
    {
     "name": "stdout",
     "output_type": "stream",
     "text": [
      "0 1 2 Done\n"
     ]
    }
   ],
   "source": [
    "i = 0\n",
    "while i < 3:  # this is the condition that is being checked.\n",
    "    print(i, end=' ')\n",
    "    i = i + 1   # very common statement, read it from right to left!\n",
    "print('Done')"
   ]
  },
  {
   "cell_type": "code",
   "execution_count": 24,
   "metadata": {
    "collapsed": false
   },
   "outputs": [
    {
     "data": {
      "text/plain": [
       "False"
      ]
     },
     "execution_count": 24,
     "metadata": {},
     "output_type": "execute_result"
    }
   ],
   "source": [
    "i < 3"
   ]
  },
  {
   "cell_type": "code",
   "execution_count": 25,
   "metadata": {
    "collapsed": false
   },
   "outputs": [
    {
     "data": {
      "text/plain": [
       "3"
      ]
     },
     "execution_count": 25,
     "metadata": {},
     "output_type": "execute_result"
    }
   ],
   "source": [
    "i"
   ]
  },
  {
   "cell_type": "markdown",
   "metadata": {},
   "source": [
    "`while` loops are the most low level loops, they always can be made to work, as you design the interruption criteria yourself.\n",
    "\n",
    "### For loops\n",
    "\n",
    "`for` loops are designed to loop over containers, like lists.\n",
    "\n",
    "They know how to get each element and know when to stop:"
   ]
  },
  {
   "cell_type": "code",
   "execution_count": 27,
   "metadata": {
    "collapsed": false
   },
   "outputs": [
    {
     "name": "stdout",
     "output_type": "stream",
     "text": [
      "5\n",
      "hello\n",
      "23.1\n"
     ]
    }
   ],
   "source": [
    "mylist = [5, 'hello', 23.1]\n",
    "for item in mylist:\n",
    "    print(item)"
   ]
  },
  {
   "cell_type": "markdown",
   "metadata": {},
   "source": [
    "The \"`in`\" keyword is a powerful and nicely readable concept in Python.\n",
    "\n",
    "In most cases, one can check ownership of an element in a container with it:"
   ]
  },
  {
   "cell_type": "code",
   "execution_count": 28,
   "metadata": {
    "collapsed": false
   },
   "outputs": [
    {
     "data": {
      "text/plain": [
       "True"
      ]
     },
     "execution_count": 28,
     "metadata": {},
     "output_type": "execute_result"
    }
   ],
   "source": [
    "5 in mylist"
   ]
  },
  {
   "cell_type": "markdown",
   "metadata": {},
   "source": [
    "### The `range()` function\n",
    "\n",
    "`range()` is very useful for creating lists for you that you can loop over and work with.\n",
    "\n",
    "It has two different call signatures:\n",
    "\n",
    "* range(n) will create a list from 0 to n-1, with an increment of +1.\n",
    "* range(n1, n2, [step]) creates a list from n1 to n2-1, with again a default increment of 1\n",
    "\n",
    "Negative increments are also okay:"
   ]
  },
  {
   "cell_type": "code",
   "execution_count": 29,
   "metadata": {
    "collapsed": false
   },
   "outputs": [
    {
     "name": "stdout",
     "output_type": "stream",
     "text": [
      "0 1 2 3 4 5 6 7 8 9 "
     ]
    }
   ],
   "source": [
    "for i in range(10):\n",
    "    print(i, end=' ')"
   ]
  },
  {
   "cell_type": "code",
   "execution_count": 30,
   "metadata": {
    "collapsed": false
   },
   "outputs": [
    {
     "name": "stdout",
     "output_type": "stream",
     "text": [
      "2 3 4 "
     ]
    }
   ],
   "source": [
    "for i in range(2, 5):\n",
    "    print(i, end=' ')"
   ]
  },
  {
   "cell_type": "code",
   "execution_count": 33,
   "metadata": {
    "collapsed": false
   },
   "outputs": [
    {
     "name": "stdout",
     "output_type": "stream",
     "text": [
      "0 -1 -2 -3 -4 "
     ]
    }
   ],
   "source": [
    "for i in range(0, -5, -1):\n",
    "    print(i, end=' ')"
   ]
  },
  {
   "cell_type": "code",
   "execution_count": 34,
   "metadata": {
    "collapsed": true
   },
   "outputs": [],
   "source": [
    "range?"
   ]
  },
  {
   "cell_type": "markdown",
   "metadata": {},
   "source": [
    "**IMPORTANT**\n",
    "\n",
    "Note, that for memory efficiency, `range()` is not automatically creating the full list, but returns an object called a `generator`.\n",
    "\n",
    "This is basically an abstract object that knows **HOW TO** create the requested list, but didn't do it yet."
   ]
  },
  {
   "cell_type": "code",
   "execution_count": 35,
   "metadata": {
    "collapsed": false
   },
   "outputs": [
    {
     "name": "stdout",
     "output_type": "stream",
     "text": [
      "range(0, 10)\n"
     ]
    }
   ],
   "source": [
    "print(range(10))"
   ]
  },
  {
   "cell_type": "markdown",
   "metadata": {},
   "source": [
    "It takes either a loop (as above) or a conversion to a list to see the actual content:"
   ]
  },
  {
   "cell_type": "code",
   "execution_count": 36,
   "metadata": {
    "collapsed": false
   },
   "outputs": [
    {
     "name": "stdout",
     "output_type": "stream",
     "text": [
      "[0, 1, 2, 3, 4, 5, 6, 7, 8, 9]\n"
     ]
    }
   ],
   "source": [
    "print(list(range(10)))"
   ]
  },
  {
   "cell_type": "markdown",
   "metadata": {},
   "source": [
    "### Combine `if` and `for`\n",
    "\n",
    "Let's combine `for` and `if` to write a mini program.\n",
    "The task is to scan a container of 1's and 0's and count how many 1's are there."
   ]
  },
  {
   "cell_type": "code",
   "execution_count": 37,
   "metadata": {
    "collapsed": false
   },
   "outputs": [
    {
     "data": {
      "text/plain": [
       "[0, 1, 1, 0, 0, 1, 0, 1, 0, 0, 1]"
      ]
     },
     "execution_count": 37,
     "metadata": {},
     "output_type": "execute_result"
    }
   ],
   "source": [
    "mylist = [0,1,1,0,0,1,0,1,0,0,1]\n",
    "mylist"
   ]
  },
  {
   "cell_type": "code",
   "execution_count": 38,
   "metadata": {
    "collapsed": false
   },
   "outputs": [
    {
     "name": "stdout",
     "output_type": "stream",
     "text": [
      "Found 5 ones.\n"
     ]
    }
   ],
   "source": [
    "one_counter = 0\n",
    "for value in mylist:       # note the colon!\n",
    "    if value == 1:         # note the indent for each `block` !\n",
    "        one_counter += 1   # this is the short version of a = a + 1\n",
    "print(\"Found\", one_counter, \"ones.\")"
   ]
  },
  {
   "cell_type": "markdown",
   "metadata": {},
   "source": [
    "### Writing and reading files\n",
    "\n",
    "Need to get data in and out.\n",
    "In principle, I recommend to use high level readers from science packages.\n",
    "\n",
    "But you will need to know the principles of file opening nonetheless."
   ]
  },
  {
   "cell_type": "code",
   "execution_count": 39,
   "metadata": {
    "collapsed": true
   },
   "outputs": [],
   "source": [
    "afile = open('testfile', 'w')"
   ]
  },
  {
   "cell_type": "code",
   "execution_count": 40,
   "metadata": {
    "collapsed": true
   },
   "outputs": [],
   "source": [
    "afile.name?"
   ]
  },
  {
   "cell_type": "code",
   "execution_count": 41,
   "metadata": {
    "collapsed": false
   },
   "outputs": [
    {
     "data": {
      "text/plain": [
       "17"
      ]
     },
     "execution_count": 41,
     "metadata": {},
     "output_type": "execute_result"
    }
   ],
   "source": [
    "afile.write('some text \\n')   # \\n is the symbol to create a new line\n",
    "afile.write('write some more \\n')"
   ]
  },
  {
   "cell_type": "markdown",
   "metadata": {},
   "source": [
    "The `write` function of the `afile` object returns the length of what just was written.\n",
    "\n",
    "When done, the file needs to be closed!\n",
    "\n",
    "Otherwise, the content could not end up in the file, because it was `cached`."
   ]
  },
  {
   "cell_type": "code",
   "execution_count": 42,
   "metadata": {
    "collapsed": true
   },
   "outputs": [],
   "source": [
    "afile.close()"
   ]
  },
  {
   "cell_type": "markdown",
   "metadata": {},
   "source": [
    "I can call operating system commands with a leading exclamation mark:"
   ]
  },
  {
   "cell_type": "code",
   "execution_count": 43,
   "metadata": {
    "collapsed": false
   },
   "outputs": [
    {
     "name": "stdout",
     "output_type": "stream",
     "text": [
      "some text \r\n",
      "write some more \r\n"
     ]
    }
   ],
   "source": [
    "!cat testfile"
   ]
  },
  {
   "cell_type": "markdown",
   "metadata": {},
   "source": [
    "#### reading the file\n",
    "\n",
    "One can also use a so called `context manager` and indented code block to indicate to Python when to automatically close the file:"
   ]
  },
  {
   "cell_type": "code",
   "execution_count": 47,
   "metadata": {
    "collapsed": false
   },
   "outputs": [
    {
     "name": "stdout",
     "output_type": "stream",
     "text": [
      "['some text \\n', 'write some more \\n']\n"
     ]
    }
   ],
   "source": [
    "with open('testfile', 'r') as afile:\n",
    "    print(afile.readlines())"
   ]
  },
  {
   "cell_type": "code",
   "execution_count": 48,
   "metadata": {
    "collapsed": false
   },
   "outputs": [
    {
     "name": "stdout",
     "output_type": "stream",
     "text": [
      "some text \n",
      "write some more \n",
      "\n"
     ]
    }
   ],
   "source": [
    "with open('testfile', 'r') as afile:\n",
    "    print(afile.read())"
   ]
  },
  {
   "cell_type": "markdown",
   "metadata": {
    "collapsed": true
   },
   "source": [
    "### Tutorial practice\n",
    "\n",
    "Now you will practice a bit of Python yourself.\n",
    "\n",
    "I recommend to join forces in groups of two.\n",
    "\n",
    "This working technique is called \"pair programming\": \n",
    "One person is the \"driver\", typing in code, while the other person is the \"navigator\", reviewing everything that is being typed in. \n",
    "The roles should be frequently changed (or not, depending on preferences).\n",
    "\n",
    "This way you can discuss anything that's being worked on.\n",
    "\n",
    "Next session we will learn how to import all these powerful analysis packages into a Python session, learn about the most import science packages and play with some real data."
   ]
  }
 ],
 "metadata": {
  "kernelspec": {
   "display_name": "Python3 (stable)",
   "language": "python",
   "name": "stable"
  },
  "language_info": {
   "codemirror_mode": {
    "name": "ipython",
    "version": 3
   },
   "file_extension": ".py",
   "mimetype": "text/x-python",
   "name": "python",
   "nbconvert_exporter": "python",
   "pygments_lexer": "ipython3",
   "version": "3.5.1"
  },
  "widgets": {
   "state": {},
   "version": "1.1.1"
  }
 },
 "nbformat": 4,
 "nbformat_minor": 0
}
