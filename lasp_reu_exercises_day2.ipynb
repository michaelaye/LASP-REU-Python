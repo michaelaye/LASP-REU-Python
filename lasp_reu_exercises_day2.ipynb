{
 "cells": [
  {
   "cell_type": "markdown",
   "metadata": {},
   "source": [
    "# Exploring Data Through Plotting\n",
    "\n",
    "(based on Morgan Rehnberg's previous tutorial exercices. Adapted to use pandas by K.-Michael Aye)\n",
    "\n",
    "Realizing that there’s more to the solar system than just the Sun, you have commandeered the Cassini spacecraft and performed a stellar occultation of the rings of Saturn. Stellar occultations work by watching a star pass behind a region of space and measuring how much the star dims. The more it dims, the denser the material in that region of space must be. Let's find a curious feature within the rings and make a plot of it.\n",
    "\n",
    "To start on this task, create a new Jupyter notebook. \n",
    "\n",
    "Instead of fiddling with data file reading on your own, I highly recommend to use the very powerful CSV reader of `pandas`. It has many options to control its behavior, and will return a pandas.DataFrame for which you just have seen, how powerful it is.\n",
    "\n",
    "Ok, so let's read some data in, but first copy the data-file from my home folder to the folder where you started the jupyter notebook (for simplicity).\n",
    "\n",
    "In case you have started (or will start) the notebook from your home folder (that's the folder where you Terminal is, when you open it), that command would be ('cp' for 'copy'):\n",
    "\n",
    "```bash\n",
    "$ cp ../klay6683/alpleo.csv $HOME\n",
    "```\n",
    "Ok, now read it into a dataframe with pd.read_csv:"
   ]
  },
  {
   "cell_type": "code",
   "execution_count": 2,
   "metadata": {
    "collapsed": false
   },
   "outputs": [
    {
     "data": {
      "text/html": [
       "<div>\n",
       "<table border=\"1\" class=\"dataframe\">\n",
       "  <thead>\n",
       "    <tr style=\"text-align: right;\">\n",
       "      <th></th>\n",
       "      <th>data</th>\n",
       "      <th>et</th>\n",
       "      <th>lon</th>\n",
       "      <th>optical_depth</th>\n",
       "      <th>radius</th>\n",
       "      <th>rev</th>\n",
       "      <th>star_name</th>\n",
       "    </tr>\n",
       "  </thead>\n",
       "  <tbody>\n",
       "    <tr>\n",
       "      <th>0</th>\n",
       "      <td>721.0</td>\n",
       "      <td>1.714756e+08</td>\n",
       "      <td>11.861636</td>\n",
       "      <td>1.230884</td>\n",
       "      <td>204588.403236</td>\n",
       "      <td>9</td>\n",
       "      <td>alpleo</td>\n",
       "    </tr>\n",
       "    <tr>\n",
       "      <th>1</th>\n",
       "      <td>664.0</td>\n",
       "      <td>1.714756e+08</td>\n",
       "      <td>11.860854</td>\n",
       "      <td>1.254440</td>\n",
       "      <td>204584.406186</td>\n",
       "      <td>9</td>\n",
       "      <td>alpleo</td>\n",
       "    </tr>\n",
       "    <tr>\n",
       "      <th>2</th>\n",
       "      <td>713.0</td>\n",
       "      <td>1.714756e+08</td>\n",
       "      <td>11.860072</td>\n",
       "      <td>1.232754</td>\n",
       "      <td>204580.409173</td>\n",
       "      <td>9</td>\n",
       "      <td>alpleo</td>\n",
       "    </tr>\n",
       "    <tr>\n",
       "      <th>3</th>\n",
       "      <td>690.0</td>\n",
       "      <td>1.714756e+08</td>\n",
       "      <td>11.859290</td>\n",
       "      <td>1.249550</td>\n",
       "      <td>204576.412182</td>\n",
       "      <td>9</td>\n",
       "      <td>alpleo</td>\n",
       "    </tr>\n",
       "    <tr>\n",
       "      <th>4</th>\n",
       "      <td>741.0</td>\n",
       "      <td>1.714756e+08</td>\n",
       "      <td>11.858508</td>\n",
       "      <td>1.227637</td>\n",
       "      <td>204572.415227</td>\n",
       "      <td>9</td>\n",
       "      <td>alpleo</td>\n",
       "    </tr>\n",
       "  </tbody>\n",
       "</table>\n",
       "</div>"
      ],
      "text/plain": [
       "    data            et        lon  optical_depth         radius  rev star_name\n",
       "0  721.0  1.714756e+08  11.861636       1.230884  204588.403236    9    alpleo\n",
       "1  664.0  1.714756e+08  11.860854       1.254440  204584.406186    9    alpleo\n",
       "2  713.0  1.714756e+08  11.860072       1.232754  204580.409173    9    alpleo\n",
       "3  690.0  1.714756e+08  11.859290       1.249550  204576.412182    9    alpleo\n",
       "4  741.0  1.714756e+08  11.858508       1.227637  204572.415227    9    alpleo"
      ]
     },
     "execution_count": 2,
     "metadata": {},
     "output_type": "execute_result"
    }
   ],
   "source": [
    "df = pd.read_csv(\"alpleo.csv\")\n",
    "df.head()"
   ]
  },
  {
   "cell_type": "markdown",
   "metadata": {},
   "source": [
    "I often use the head() method of dataframes to get a quick glance at data.\n",
    "\n",
    "Maybe have a look at the overall stats to get a better feel for the data:"
   ]
  },
  {
   "cell_type": "code",
   "execution_count": 3,
   "metadata": {
    "collapsed": false
   },
   "outputs": [
    {
     "data": {
      "text/html": [
       "<div>\n",
       "<table border=\"1\" class=\"dataframe\">\n",
       "  <thead>\n",
       "    <tr style=\"text-align: right;\">\n",
       "      <th></th>\n",
       "      <th>data</th>\n",
       "      <th>et</th>\n",
       "      <th>lon</th>\n",
       "      <th>optical_depth</th>\n",
       "      <th>radius</th>\n",
       "      <th>rev</th>\n",
       "    </tr>\n",
       "  </thead>\n",
       "  <tbody>\n",
       "    <tr>\n",
       "      <th>count</th>\n",
       "      <td>34727.000000</td>\n",
       "      <td>3.472700e+04</td>\n",
       "      <td>34727.000000</td>\n",
       "      <td>34727.000000</td>\n",
       "      <td>34727.000000</td>\n",
       "      <td>34727.0</td>\n",
       "    </tr>\n",
       "    <tr>\n",
       "      <th>mean</th>\n",
       "      <td>4021.899790</td>\n",
       "      <td>1.714791e+08</td>\n",
       "      <td>226.498677</td>\n",
       "      <td>1.099901</td>\n",
       "      <td>148052.430135</td>\n",
       "      <td>9.0</td>\n",
       "    </tr>\n",
       "    <tr>\n",
       "      <th>std</th>\n",
       "      <td>4150.364486</td>\n",
       "      <td>2.004967e+03</td>\n",
       "      <td>158.358875</td>\n",
       "      <td>0.289155</td>\n",
       "      <td>27859.303448</td>\n",
       "      <td>0.0</td>\n",
       "    </tr>\n",
       "    <tr>\n",
       "      <th>min</th>\n",
       "      <td>27.000000</td>\n",
       "      <td>1.714756e+08</td>\n",
       "      <td>0.003681</td>\n",
       "      <td>0.752383</td>\n",
       "      <td>114127.238886</td>\n",
       "      <td>9.0</td>\n",
       "    </tr>\n",
       "    <tr>\n",
       "      <th>25%</th>\n",
       "      <td>496.000000</td>\n",
       "      <td>1.714773e+08</td>\n",
       "      <td>9.259683</td>\n",
       "      <td>0.768340</td>\n",
       "      <td>121875.835022</td>\n",
       "      <td>9.0</td>\n",
       "    </tr>\n",
       "    <tr>\n",
       "      <th>50%</th>\n",
       "      <td>686.000000</td>\n",
       "      <td>1.714791e+08</td>\n",
       "      <td>328.259062</td>\n",
       "      <td>1.257333</td>\n",
       "      <td>142542.054196</td>\n",
       "      <td>9.0</td>\n",
       "    </tr>\n",
       "    <tr>\n",
       "      <th>75%</th>\n",
       "      <td>9116.500000</td>\n",
       "      <td>1.714808e+08</td>\n",
       "      <td>346.645106</td>\n",
       "      <td>1.333582</td>\n",
       "      <td>171326.312658</td>\n",
       "      <td>9.0</td>\n",
       "    </tr>\n",
       "    <tr>\n",
       "      <th>max</th>\n",
       "      <td>10016.000000</td>\n",
       "      <td>1.714825e+08</td>\n",
       "      <td>359.998585</td>\n",
       "      <td>1.512767</td>\n",
       "      <td>204588.403236</td>\n",
       "      <td>9.0</td>\n",
       "    </tr>\n",
       "  </tbody>\n",
       "</table>\n",
       "</div>"
      ],
      "text/plain": [
       "               data            et           lon  optical_depth         radius  \\\n",
       "count  34727.000000  3.472700e+04  34727.000000   34727.000000   34727.000000   \n",
       "mean    4021.899790  1.714791e+08    226.498677       1.099901  148052.430135   \n",
       "std     4150.364486  2.004967e+03    158.358875       0.289155   27859.303448   \n",
       "min       27.000000  1.714756e+08      0.003681       0.752383  114127.238886   \n",
       "25%      496.000000  1.714773e+08      9.259683       0.768340  121875.835022   \n",
       "50%      686.000000  1.714791e+08    328.259062       1.257333  142542.054196   \n",
       "75%     9116.500000  1.714808e+08    346.645106       1.333582  171326.312658   \n",
       "max    10016.000000  1.714825e+08    359.998585       1.512767  204588.403236   \n",
       "\n",
       "           rev  \n",
       "count  34727.0  \n",
       "mean       9.0  \n",
       "std        0.0  \n",
       "min        9.0  \n",
       "25%        9.0  \n",
       "50%        9.0  \n",
       "75%        9.0  \n",
       "max        9.0  "
      ]
     },
     "execution_count": 3,
     "metadata": {},
     "output_type": "execute_result"
    }
   ],
   "source": [
    "df.describe()"
   ]
  },
  {
   "cell_type": "markdown",
   "metadata": {},
   "source": [
    "So we have 34727 rows! One can check that also with the `shape` of  the dataframe, a feature offered by the underlying numpy:"
   ]
  },
  {
   "cell_type": "code",
   "execution_count": 4,
   "metadata": {
    "collapsed": false
   },
   "outputs": [
    {
     "data": {
      "text/plain": [
       "(34727, 7)"
      ]
     },
     "execution_count": 4,
     "metadata": {},
     "output_type": "execute_result"
    }
   ],
   "source": [
    "df.shape"
   ]
  },
  {
   "cell_type": "markdown",
   "metadata": {},
   "source": [
    "Let's for now focus on two of these columns: `data` and `radius`:"
   ]
  },
  {
   "cell_type": "code",
   "execution_count": 5,
   "metadata": {
    "collapsed": false
   },
   "outputs": [
    {
     "data": {
      "text/html": [
       "<div>\n",
       "<table border=\"1\" class=\"dataframe\">\n",
       "  <thead>\n",
       "    <tr style=\"text-align: right;\">\n",
       "      <th></th>\n",
       "      <th>data</th>\n",
       "      <th>radius</th>\n",
       "    </tr>\n",
       "  </thead>\n",
       "  <tbody>\n",
       "    <tr>\n",
       "      <th>0</th>\n",
       "      <td>721.0</td>\n",
       "      <td>204588.403236</td>\n",
       "    </tr>\n",
       "    <tr>\n",
       "      <th>1</th>\n",
       "      <td>664.0</td>\n",
       "      <td>204584.406186</td>\n",
       "    </tr>\n",
       "    <tr>\n",
       "      <th>2</th>\n",
       "      <td>713.0</td>\n",
       "      <td>204580.409173</td>\n",
       "    </tr>\n",
       "    <tr>\n",
       "      <th>3</th>\n",
       "      <td>690.0</td>\n",
       "      <td>204576.412182</td>\n",
       "    </tr>\n",
       "    <tr>\n",
       "      <th>4</th>\n",
       "      <td>741.0</td>\n",
       "      <td>204572.415227</td>\n",
       "    </tr>\n",
       "  </tbody>\n",
       "</table>\n",
       "</div>"
      ],
      "text/plain": [
       "    data         radius\n",
       "0  721.0  204588.403236\n",
       "1  664.0  204584.406186\n",
       "2  713.0  204580.409173\n",
       "3  690.0  204576.412182\n",
       "4  741.0  204572.415227"
      ]
     },
     "execution_count": 5,
     "metadata": {},
     "output_type": "execute_result"
    }
   ],
   "source": [
    "subdf = df[['data', 'radius']]\n",
    "subdf.head()"
   ]
  },
  {
   "cell_type": "markdown",
   "metadata": {},
   "source": [
    "Let's create a preliminary plot of this, with data vs radius, so data on y-axis, radius on x-axis.\n",
    "\n",
    "Use the built-in help system to find out how to use df.plot to do this: `df.plot?`"
   ]
  },
  {
   "cell_type": "code",
   "execution_count": 6,
   "metadata": {
    "collapsed": false
   },
   "outputs": [
    {
     "data": {
      "text/plain": [
       "<matplotlib.axes._subplots.AxesSubplot at 0x1164396d8>"
      ]
     },
     "execution_count": 6,
     "metadata": {},
     "output_type": "execute_result"
    },
    {
     "data": {
      "image/png": "[encoded data removed]",
      "text/plain": [
       "<matplotlib.figure.Figure at 0x1163f0160>"
      ]
     },
     "metadata": {},
     "output_type": "display_data"
    }
   ],
   "source": [
    "# activate the plotting backend first\n",
    "%matplotlib inline  \n",
    "\n",
    "subdf.plot('radius', 'data')"
   ]
  },
  {
   "cell_type": "markdown",
   "metadata": {},
   "source": [
    "Note, the ring radius numbers are going down? That's because they were stored like that in the csv file. But because I will refer always to the Saturn ring radius, I decide to declare the radius to be my index of the dataframe. This will make things even easier for plotting and sorting:"
   ]
  },
  {
   "cell_type": "code",
   "execution_count": 7,
   "metadata": {
    "collapsed": false
   },
   "outputs": [
    {
     "data": {
      "text/html": [
       "<div>\n",
       "<table border=\"1\" class=\"dataframe\">\n",
       "  <thead>\n",
       "    <tr style=\"text-align: right;\">\n",
       "      <th></th>\n",
       "      <th>data</th>\n",
       "    </tr>\n",
       "    <tr>\n",
       "      <th>radius</th>\n",
       "      <th></th>\n",
       "    </tr>\n",
       "  </thead>\n",
       "  <tbody>\n",
       "    <tr>\n",
       "      <th>204588.403236</th>\n",
       "      <td>721.0</td>\n",
       "    </tr>\n",
       "    <tr>\n",
       "      <th>204584.406186</th>\n",
       "      <td>664.0</td>\n",
       "    </tr>\n",
       "    <tr>\n",
       "      <th>204580.409173</th>\n",
       "      <td>713.0</td>\n",
       "    </tr>\n",
       "    <tr>\n",
       "      <th>204576.412182</th>\n",
       "      <td>690.0</td>\n",
       "    </tr>\n",
       "    <tr>\n",
       "      <th>204572.415227</th>\n",
       "      <td>741.0</td>\n",
       "    </tr>\n",
       "  </tbody>\n",
       "</table>\n",
       "</div>"
      ],
      "text/plain": [
       "                data\n",
       "radius              \n",
       "204588.403236  721.0\n",
       "204584.406186  664.0\n",
       "204580.409173  713.0\n",
       "204576.412182  690.0\n",
       "204572.415227  741.0"
      ]
     },
     "execution_count": 7,
     "metadata": {},
     "output_type": "execute_result"
    }
   ],
   "source": [
    "subdf = subdf.set_index('radius')\n",
    "subdf.head()"
   ]
  },
  {
   "cell_type": "markdown",
   "metadata": {},
   "source": [
    "Make sure you understanding the gravity of this! Instead of having just index numbers based on position, we have now actual physical values as index that directly relate to the data values!\n",
    "\n",
    "This is a much more data-related way of working than by anonymous cold-hearted index positions. ;)\n",
    "\n",
    "See how the column with pure counts is gone, as we have replaced the default index of just row numbers with the radius? But it's not sorted yet, so let's do that:"
   ]
  },
  {
   "cell_type": "code",
   "execution_count": 8,
   "metadata": {
    "collapsed": false
   },
   "outputs": [
    {
     "data": {
      "text/html": [
       "<div>\n",
       "<table border=\"1\" class=\"dataframe\">\n",
       "  <thead>\n",
       "    <tr style=\"text-align: right;\">\n",
       "      <th></th>\n",
       "      <th>data</th>\n",
       "    </tr>\n",
       "    <tr>\n",
       "      <th>radius</th>\n",
       "      <th></th>\n",
       "    </tr>\n",
       "  </thead>\n",
       "  <tbody>\n",
       "    <tr>\n",
       "      <th>114127.238886</th>\n",
       "      <td>696.0</td>\n",
       "    </tr>\n",
       "    <tr>\n",
       "      <th>114127.239294</th>\n",
       "      <td>699.0</td>\n",
       "    </tr>\n",
       "    <tr>\n",
       "      <th>114127.239944</th>\n",
       "      <td>730.0</td>\n",
       "    </tr>\n",
       "    <tr>\n",
       "      <th>114127.240813</th>\n",
       "      <td>766.0</td>\n",
       "    </tr>\n",
       "    <tr>\n",
       "      <th>114127.241859</th>\n",
       "      <td>726.0</td>\n",
       "    </tr>\n",
       "  </tbody>\n",
       "</table>\n",
       "</div>"
      ],
      "text/plain": [
       "                data\n",
       "radius              \n",
       "114127.238886  696.0\n",
       "114127.239294  699.0\n",
       "114127.239944  730.0\n",
       "114127.240813  766.0\n",
       "114127.241859  726.0"
      ]
     },
     "execution_count": 8,
     "metadata": {},
     "output_type": "execute_result"
    }
   ],
   "source": [
    "subdf = subdf.sort_index()\n",
    "subdf.head()"
   ]
  },
  {
   "cell_type": "markdown",
   "metadata": {},
   "source": [
    "Now let's try that plot again:"
   ]
  },
  {
   "cell_type": "code",
   "execution_count": 9,
   "metadata": {
    "collapsed": false
   },
   "outputs": [
    {
     "data": {
      "text/plain": [
       "<matplotlib.axes._subplots.AxesSubplot at 0x11661d7f0>"
      ]
     },
     "execution_count": 9,
     "metadata": {},
     "output_type": "execute_result"
    },
    {
     "data": {
      "image/png": "[encoded data removed]",
      "text/plain": [
       "<matplotlib.figure.Figure at 0x116fbe978>"
      ]
     },
     "metadata": {},
     "output_type": "display_data"
    }
   ],
   "source": [
    "subdf.plot()"
   ]
  },
  {
   "cell_type": "markdown",
   "metadata": {},
   "source": [
    "The cool thing is, that now I even don't need to provide what I want to plot, because I declared one of the columns to be the index, which automatically puts it on the x-axis, and the only other column becomes automatically the data for the y-axis of the plot.\n",
    "\n",
    "Doesn’t look like much, eh? What you’re looking at is an observation of three regions of the rings: the Cassini Division, the A ring, and the F ring. Let’s take a closer look at the F ring, one of the most turbulent regions in the solar system. The F ring is centered around 140,000 km from Saturn.\n",
    "\n",
    "> **TASK:** Plot the region between r = 138,000 km and r = 142,000 km in your data\n",
    "\n",
    "> Remember how you can select dataframe data with the .loc function, for example: subdf.loc[1000:2000], or how just brackets are fine when just selecting on index values?\n",
    "And the cool thing that we are now selecting on actual radius values, not their indices! \n",
    "\n",
    "So, create a plot for the F ring now. The result should look like this:\n",
    "\n",
    "![first_plot](first_zoom.png \"First zoom\")"
   ]
  },
  {
   "cell_type": "markdown",
   "metadata": {},
   "source": [
    "The dips near the center of the plot represent the core of the F ring. The large peak in the middle, however, is something different. Let’s make a plot of it.\n",
    "\n",
    "> **TASK:** Plot the region [139400, 140500]\n",
    "\n",
    "Result: ![second_plot](second_zoom.png \"Second zoom\")"
   ]
  },
  {
   "cell_type": "markdown",
   "metadata": {},
   "source": [
    "Here's our strange feature, a clump of material known as a \"kitten\"!\n",
    "\n",
    "The counts in this plot measure the amount of light that filters through the rings at any given point, but counts aren't linearly related to density.\n",
    "As a proxy for density, astronomers often use optical depth. The data you unpacked from alpleo9.csv contained a column for optical depth. Check all columns quickly like so:"
   ]
  },
  {
   "cell_type": "code",
   "execution_count": 10,
   "metadata": {
    "collapsed": false
   },
   "outputs": [
    {
     "data": {
      "text/plain": [
       "Index(['data', 'et', 'lon', 'optical_depth', 'radius', 'rev', 'star_name'], dtype='object')"
      ]
     },
     "execution_count": 10,
     "metadata": {},
     "output_type": "execute_result"
    }
   ],
   "source": [
    "df.columns"
   ]
  },
  {
   "cell_type": "markdown",
   "metadata": {},
   "source": [
    "So, let's plot that `optical_depth` on top of the `data` column. For that we need to go back to the original dataframe and pick out that extra column for the `subdf`. Then we need to set that index there also to radius and sort by it:\n",
    "\n",
    "> **TASK:** Redo the creation of subdf with also including the 'optical_depth' column. Set the index again to `radius` and sort by the radius values as before.\n",
    "\n",
    "> **TASK:** Now plot the things again between the above used focused radius values. Maybe you want to store them into variables to not type those long numbers all over again. Maybe you even want to create another subdf that already is filtered for your region of radius interest? Up to you.\n",
    "\n",
    "Result should look like this:\n",
    "    ![invisible](invisible_OD.png \"invisible OD\")"
   ]
  },
  {
   "cell_type": "markdown",
   "metadata": {},
   "source": [
    "Do you see two lines? If not, print out the first few elements of the data and optical depth to see how similar they are.\n",
    "\n",
    "> **TASK:** Print out the first lines of the columns using the head() method\n",
    "\n",
    "After we know that they are quite different in scale, we need to plot the data on two different axes to be able to compare it. Fortunately, also a breeze with pandas:"
   ]
  },
  {
   "cell_type": "code",
   "execution_count": 21,
   "metadata": {
    "collapsed": false
   },
   "outputs": [
    {
     "data": {
      "text/plain": [
       "<matplotlib.axes._subplots.AxesSubplot at 0x116bbb2b0>"
      ]
     },
     "execution_count": 21,
     "metadata": {},
     "output_type": "execute_result"
    },
    {
     "data": {
      "image/png": "[encoded data removed]",
      "text/plain": [
       "<matplotlib.figure.Figure at 0x116aeb908>"
      ]
     },
     "metadata": {},
     "output_type": "display_data"
    }
   ],
   "source": [
    "r1 = 139400\n",
    "r2 = 140500\n",
    "subdf[r1:r2].plot(secondary_y='optical_depth')"
   ]
  },
  {
   "cell_type": "markdown",
   "metadata": {},
   "source": [
    "For a nice plot, we still miss a title and some y-axis labels. Also, maybe we want to adjust the plotting ranges.\n",
    "For full control, it's often better to create the matplotlib axis (=a plotting window) yourself, provide it to pandas for a first plot, and then tweak it:"
   ]
  },
  {
   "cell_type": "code",
   "execution_count": 22,
   "metadata": {
    "collapsed": false
   },
   "outputs": [
    {
     "data": {
      "text/plain": [
       "<matplotlib.text.Text at 0x116b4c400>"
      ]
     },
     "execution_count": 22,
     "metadata": {},
     "output_type": "execute_result"
    },
    {
     "data": {
      "image/png": "[encoded data removed]",
      "text/plain": [
       "<matplotlib.figure.Figure at 0x11ba24cc0>"
      ]
     },
     "metadata": {},
     "output_type": "display_data"
    }
   ],
   "source": [
    "fig, ax = plt.subplots()  # powerful plt method, also able to create subplots, like 2x2 etc.\n",
    "subdf[r1:r2].plot(ax=ax, secondary_y='optical_depth',\n",
    "                  title=\"A strange feature in Saturn's rings\",\n",
    "                  ylim=(0, 14000))\n",
    "ax.right_ax.set_ylim(0.2, 1.5)\n",
    "ax.set_xlabel(\"Distance from Saturn [km]\")\n",
    "ax.right_ax.set_ylabel('Optical Depth')\n",
    "ax.set_ylabel(\"Counts\")"
   ]
  },
  {
   "cell_type": "markdown",
   "metadata": {},
   "source": [
    "Now that we’ve studied the F ring through stellar occultations, let’s take a look at what it looks like in an image. \n",
    "\n",
    "> **TASK:** Find and copy the image N1530370686.png from my home folder to your jupyter notebook folder, like you did with the .csv file.\n",
    "\n",
    "This image was captured by the Cassini Imaging Science System. We can read this image into Python by using matplotlib.image.imread().\n",
    "\n",
    "> **TASK:** Read the image with the imread() function, display it with the imshow() function (check the `obvious` place for where the `imshow()` function could be).\n",
    "\n",
    "Notice the thin line surrounding the main disk of the ring? That’s the F ring!"
   ]
  },
  {
   "cell_type": "markdown",
   "metadata": {},
   "source": [
    "> IMPORTANT NOTE: the `%matplotlib inline` command activates an interactive plotting environment. If you want to plot in standard Python scripts that run non-interactively, you will need at the very end of your script the command `plt.show()` to start the GUI part of showing plots in extra windows."
   ]
  }
 ],
 "metadata": {
  "kernelspec": {
   "display_name": "Python [stable]",
   "language": "python",
   "name": "Python [stable]"
  },
  "language_info": {
   "codemirror_mode": {
    "name": "ipython",
    "version": 3
   },
   "file_extension": ".py",
   "mimetype": "text/x-python",
   "name": "python",
   "nbconvert_exporter": "python",
   "pygments_lexer": "ipython3",
   "version": "3.5.1"
  },
  "widgets": {
   "state": {},
   "version": "1.1.1"
  }
 },
 "nbformat": 4,
 "nbformat_minor": 0
}
