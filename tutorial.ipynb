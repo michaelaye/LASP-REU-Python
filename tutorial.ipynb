{
 "cells": [
  {
   "cell_type": "markdown",
   "metadata": {},
   "source": [
    "# Loading Python scripts\n",
    "If you want to work on improving Python scripts in a Jupyter notebook, you can easily load them with the command `%load filename` as it is executed in the next cell."
   ]
  },
  {
   "cell_type": "code",
   "execution_count": 46,
   "metadata": {
    "collapsed": true
   },
   "outputs": [],
   "source": [
    "# %load ./tutorial.py\n",
    "# This section imports modules installed from third-party packages\n",
    "import matplotlib.pyplot as plt\n",
    "from matplotlib.colors import Normalize\n",
    "from matplotlib import rcParams, image\n",
    "import numpy as np"
   ]
  },
  {
   "cell_type": "code",
   "execution_count": 52,
   "metadata": {
    "collapsed": false
   },
   "outputs": [
    {
     "data": {
      "text/html": [
       "<div>\n",
       "<table border=\"1\" class=\"dataframe\">\n",
       "  <thead>\n",
       "    <tr style=\"text-align: right;\">\n",
       "      <th></th>\n",
       "      <th>data</th>\n",
       "      <th>et</th>\n",
       "      <th>lon</th>\n",
       "      <th>optical_depth</th>\n",
       "      <th>radius</th>\n",
       "      <th>rev</th>\n",
       "      <th>star_name</th>\n",
       "    </tr>\n",
       "  </thead>\n",
       "  <tbody>\n",
       "    <tr>\n",
       "      <th>0</th>\n",
       "      <td>721.0</td>\n",
       "      <td>1.714756e+08</td>\n",
       "      <td>11.861636</td>\n",
       "      <td>1.230884</td>\n",
       "      <td>204588.403236</td>\n",
       "      <td>9</td>\n",
       "      <td>alpleo</td>\n",
       "    </tr>\n",
       "    <tr>\n",
       "      <th>1</th>\n",
       "      <td>664.0</td>\n",
       "      <td>1.714756e+08</td>\n",
       "      <td>11.860854</td>\n",
       "      <td>1.254440</td>\n",
       "      <td>204584.406186</td>\n",
       "      <td>9</td>\n",
       "      <td>alpleo</td>\n",
       "    </tr>\n",
       "    <tr>\n",
       "      <th>2</th>\n",
       "      <td>713.0</td>\n",
       "      <td>1.714756e+08</td>\n",
       "      <td>11.860072</td>\n",
       "      <td>1.232754</td>\n",
       "      <td>204580.409173</td>\n",
       "      <td>9</td>\n",
       "      <td>alpleo</td>\n",
       "    </tr>\n",
       "    <tr>\n",
       "      <th>3</th>\n",
       "      <td>690.0</td>\n",
       "      <td>1.714756e+08</td>\n",
       "      <td>11.859290</td>\n",
       "      <td>1.249550</td>\n",
       "      <td>204576.412182</td>\n",
       "      <td>9</td>\n",
       "      <td>alpleo</td>\n",
       "    </tr>\n",
       "    <tr>\n",
       "      <th>4</th>\n",
       "      <td>741.0</td>\n",
       "      <td>1.714756e+08</td>\n",
       "      <td>11.858508</td>\n",
       "      <td>1.227637</td>\n",
       "      <td>204572.415227</td>\n",
       "      <td>9</td>\n",
       "      <td>alpleo</td>\n",
       "    </tr>\n",
       "  </tbody>\n",
       "</table>\n",
       "</div>"
      ],
      "text/plain": [
       "    data            et        lon  optical_depth         radius  rev star_name\n",
       "0  721.0  1.714756e+08  11.861636       1.230884  204588.403236    9    alpleo\n",
       "1  664.0  1.714756e+08  11.860854       1.254440  204584.406186    9    alpleo\n",
       "2  713.0  1.714756e+08  11.860072       1.232754  204580.409173    9    alpleo\n",
       "3  690.0  1.714756e+08  11.859290       1.249550  204576.412182    9    alpleo\n",
       "4  741.0  1.714756e+08  11.858508       1.227637  204572.415227    9    alpleo"
      ]
     },
     "execution_count": 52,
     "metadata": {},
     "output_type": "execute_result"
    }
   ],
   "source": [
    "df = pd.read_csv('alpleo.csv')\n",
    "df.head()"
   ]
  },
  {
   "cell_type": "code",
   "execution_count": null,
   "metadata": {
    "collapsed": true
   },
   "outputs": [],
   "source": [
    "# This section would import modules created by the user\n",
    "## Advanced could use the 'isort' module to clean up imports\n",
    "\n",
    "# # Let's import the data we want to use from the file 'alpleo9.csv' using the np. function\n",
    "# file_to_read = open('alpleo9.p', 'rb') # This opens the file for Python to read\n",
    "# alpleo9 = pickle.load(file_to_read) # This unpacks the included data into a Python dictionary named 'alpleo9'\n",
    "#\n",
    "# # This dictionary contains several keys, two of which interest us here: radius and data. Let's extract the arrays paired with these keys for easier use\n",
    "# data = alpleo9['data']\n",
    "# radius = alpleo9['radius']\n",
    "# optical_depth = alpleo9['optical_depth']\n",
    "#\n",
    "# # Now let's take a look at our data by plotting it, using matplotlib, which we have imported as plt.\n",
    "# plt.plot(radius,data)\n",
    "# plt.show()\n",
    "#\n",
    "# # Let's investigate that dip around 140,000 km by extracting that region from the overall data\n",
    "# data_region = data[(radius > 138000) & (radius < 142000)]\n",
    "# radius_region = radius[(radius > 138000) & (radius < 142000)]\n",
    "# plt.plot(radius_region,data_region)\n",
    "# plt.show()\n",
    "#\n",
    "# # Let's zoom in even further and examine that sharp dip:\n",
    "# data_region = data[(radius > 139500) & (radius < 140500)]\n",
    "# radius_region = radius[(radius > 139500) & (radius < 140500)]\n",
    "# plt.plot(radius_region,data_region)\n",
    "# plt.show()\n",
    "#\n",
    "# # Let's overplot the optical depth in this region\n",
    "# od_region = optical_depth[(radius > 139500) & (radius < 140500)]\n",
    "# plt.plot(radius_region,data_region/10000)\n",
    "# plt.plot(radius_region,od_region)\n",
    "# plt.show()\n",
    "#\n",
    "# # Let's find the minimum value of data in this region:\n",
    "# min_value = np.min(data_region)\n",
    "# print(min_value)\n",
    "#\n",
    "# # Time to make the plot prettier!\n",
    "# rcParams.update({'font.size': 16}) # Set plot font size to 16\n",
    "# rcParams.update({'figure.figsize': (20, 10)}) # Set the plot size in (x,y) inches\n",
    "# plt.plot(radius_region,data_region/10000)\n",
    "# plt.plot(radius_region,od_region)\n",
    "# plt.xlim((139500,140500))\n",
    "# plt.ylim((0,1.5))\n",
    "# plt.title(\"A strange feature in Saturn's rings\",size=24) # Give it a title!\n",
    "# plt.xlabel('Distance from Saturn (km)',size=20) # Label the x axis\n",
    "# plt.ylabel('Counts x10000 / optical depth',size=20) # Label the y axis\n",
    "# plt.text(139950,2500,'min='+str(min_value),size=18) # Label the minimum point\n",
    "# plt.legend(['Counts','Optical depth'])\n",
    "# plt.show()\n",
    "\n",
    "my_image = image.imread('N1530370686.png')\n",
    "plt.imshow(my_image,vmin=0.1,vmax=0.2)\n",
    "plt.show()"
   ]
  },
  {
   "cell_type": "code",
   "execution_count": null,
   "metadata": {
    "collapsed": true
   },
   "outputs": [],
   "source": []
  }
 ],
 "metadata": {
  "kernelspec": {
   "display_name": "Python [stable]",
   "language": "python",
   "name": "Python [stable]"
  },
  "language_info": {
   "codemirror_mode": {
    "name": "ipython",
    "version": 3
   },
   "file_extension": ".py",
   "mimetype": "text/x-python",
   "name": "python",
   "nbconvert_exporter": "python",
   "pygments_lexer": "ipython3",
   "version": "3.5.1"
  },
  "widgets": {
   "state": {},
   "version": "1.1.1"
  }
 },
 "nbformat": 4,
 "nbformat_minor": 0
}
