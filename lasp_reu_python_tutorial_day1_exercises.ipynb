{
 "cells": [
  {
   "cell_type": "markdown",
   "metadata": {},
   "source": [
    "# LASP REU Tutorial Day 1 Instructions\n",
    "\n",
    "## Write a simple non-interactive script\n",
    "\n",
    "In a terminal, type the following to open a text editor:\n",
    "```bash\n",
    "~$ gedit &\n",
    "```\n",
    "\n",
    "Type in a program that\n",
    "* prints out the numbers from 10 to 30\n",
    " * with a step of 2,\n",
    "\n",
    "using a `for` loop and the `range` function.\n",
    "\n",
    "Save the program as \"simple_loop.py\" into your \"Home\" directory.\n",
    "\n",
    "[The terminal might show some `gedit` related errors, ignore them by pressing return and getting a new input prompt.]\n",
    "\n",
    "Go back to the terminal, and execute your program using:\n",
    "\n",
    "```bash\n",
    "~$ python simple_loop.py\n",
    "```"
   ]
  },
  {
   "cell_type": "markdown",
   "metadata": {},
   "source": [
    "## Work with Jupyter notebook\n",
    "\n",
    "Close gedit.\n",
    "\n",
    "Launch a jupyter notebook with\n",
    "```bash\n",
    "~$ jupyter notebook &\n",
    "```\n",
    "(The `&` symbol means \"Launch an independent process and give me back the terminal prompt\")\n",
    "\n",
    "A webbrowser should open. (If asked which one, pick Chromium, which has a good support for Jupyter notebook)\n",
    "\n",
    "In the upper right, click on the button named \"New\" and in the dropdown menu, pick the item in the \"notebooks\" subsection that is most similar to Python3.\n",
    "\n",
    "### Write a function to calculate the factorial of a number\n",
    "\n",
    "There are several ways to implement this.\n",
    "\n",
    "As a reminder, the factorial of 3 is `1*2*3`, the factorial of 5 is `1*2*3*4*5`.\n",
    "You should have learned enough to be able to come up with a combo of some kind of loop, either `for` or `while`.\n",
    "\n",
    "As a reminder about functions, your skeleton function should look like this:\n",
    "\n",
    "```python\n",
    "def calc_factorial(n):\n",
    "    <do the right stuff>\n",
    "    print(\"The factorial of\",n,\"is\",result)  # if you store the result in `result`\n",
    "```"
   ]
  },
  {
   "cell_type": "markdown",
   "metadata": {},
   "source": [
    "### Dictionaries\n",
    "\n",
    "The last very important data container in Python that we did not discuss yet are called `dictionaries`. \n",
    "\n",
    "They work by storing a value with a certain key, so that that key can be used later to get that value back.\n",
    "\n",
    "Similar to how a list is initialised and recognized via the square brackets `[]`, dictionaries are recognized and initialized by curly brackets `{}`:"
   ]
  },
  {
   "cell_type": "code",
   "execution_count": 10,
   "metadata": {},
   "outputs": [
    {
     "data": {
      "text/plain": [
       "{4: 'mystring', 'b': 10, 'a': 5}"
      ]
     },
     "execution_count": 10,
     "metadata": {},
     "output_type": "execute_result"
    }
   ],
   "source": [
    "mydict = {}\n",
    "mydict['a'] = 5\n",
    "mydict['b'] = 10\n",
    "mydict[4] = 'mystring'\n",
    "mydict"
   ]
  },
  {
   "cell_type": "markdown",
   "metadata": {},
   "source": [
    "Note, that anything that is an unambigously identifiable Python object can be used as a key.\n",
    "\n",
    "Which is why the only simple certain choices are integers and strings."
   ]
  },
  {
   "cell_type": "markdown",
   "metadata": {},
   "source": [
    "One can loop over the dictionary values and get both key and value at once:"
   ]
  },
  {
   "cell_type": "code",
   "execution_count": 11,
   "metadata": {},
   "outputs": [
    {
     "name": "stdout",
     "output_type": "stream",
     "text": [
      "4 mystring\n",
      "b 10\n",
      "a 5\n"
     ]
    }
   ],
   "source": [
    "for k, v in mydict.items():\n",
    "    print(k, v)"
   ]
  },
  {
   "cell_type": "markdown",
   "metadata": {},
   "source": [
    "Note, that dictionaries don't store things in the order they have received it, for maximum performance (optimzing memory). (there are sorted versions if required)."
   ]
  },
  {
   "cell_type": "markdown",
   "metadata": {},
   "source": [
    "### Task: create function that combines 2 lists into dictionary\n",
    "\n",
    "Program a function that takes a list of first_names and last_names and stores them into a dictionary.\n",
    "\n",
    "As you might have guessed, keys have to be unique, but values don't have to.\n",
    "So don't try this with a list of first_names that is non-unique (unless you want to learn about error handling. ;)\n",
    "\n",
    "So, take the list ['john', 'james', 'jacob'] as first_names for example, and the list ['smith', 'baker', 'anderson'] as last_names and give them to the function.\n",
    "\n",
    "Your function skeleton would look like this:\n",
    "\n",
    "```python\n",
    "def my_dict_creator(list1, list2):\n",
    "    <do the right stuff and create mydict>\n",
    "    return mydict\n",
    "```"
   ]
  }
 ],
 "metadata": {
  "kernelspec": {
   "display_name": "Python 3",
   "language": "python",
   "name": "python3"
  },
  "language_info": {
   "codemirror_mode": {
    "name": "ipython",
    "version": 3
   },
   "file_extension": ".py",
   "mimetype": "text/x-python",
   "name": "python",
   "nbconvert_exporter": "python",
   "pygments_lexer": "ipython3",
   "version": "3.7.3"
  },
  "widgets": {
   "state": {},
   "version": "1.1.1"
  }
 },
 "nbformat": 4,
 "nbformat_minor": 1
}
